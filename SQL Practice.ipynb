{
 "cells": [
  {
   "cell_type": "markdown",
   "metadata": {},
   "source": [
    "# Introduction\n",
    "\n",
    "This notebook contains my test answers to SQL problems from TestDome and Interview Query."
   ]
  },
  {
   "cell_type": "code",
   "execution_count": 2,
   "metadata": {
    "ExecuteTime": {
     "end_time": "2021-10-01T18:48:59.600799Z",
     "start_time": "2021-10-01T18:48:59.532042Z"
    }
   },
   "outputs": [],
   "source": [
    "import sqlite3\n",
    "import pandas as pd"
   ]
  },
  {
   "cell_type": "markdown",
   "metadata": {},
   "source": [
    "## TestDome - Regional Sales Comparison\n",
    "\n",
    "An insurance company maintains records of sales made by its employees. Each employee is assigned to a state. States are grouped under regions.\n",
    "\n",
    "Write a query that returns:\n",
    "\n",
    "1. The region name.\n",
    "2. Average sales per employee for the region (Average sales = Total sales made for the region / Number of employees in the region).\n",
    "3. The difference between the average sales of the region with the highest average sales, and the average sales per employee for the region (average sales to be calculated as explained above).\n",
    "\n",
    "Employees can have multiple sales. A region with no sales should be also returned. Use 0 for average sales per employee for such a region when calculating the 2nd and the 3rd column."
   ]
  },
  {
   "cell_type": "code",
   "execution_count": 3,
   "metadata": {
    "ExecuteTime": {
     "end_time": "2021-08-26T21:10:15.740203Z",
     "start_time": "2021-08-26T21:10:15.549070Z"
    }
   },
   "outputs": [],
   "source": [
    "conn = sqlite3.connect('dbs/regional_sales.db')\n",
    "cur = conn.cursor()"
   ]
  },
  {
   "cell_type": "code",
   "execution_count": 11,
   "metadata": {
    "ExecuteTime": {
     "end_time": "2021-08-26T21:18:47.335378Z",
     "start_time": "2021-08-26T21:18:47.134780Z"
    }
   },
   "outputs": [
    {
     "data": {
      "text/plain": [
       "[<sqlite3.Cursor at 0x7fb106c90810>,\n",
       " <sqlite3.Cursor at 0x7fb106c90810>,\n",
       " <sqlite3.Cursor at 0x7fb106c90810>,\n",
       " <sqlite3.Cursor at 0x7fb106c90810>,\n",
       " <sqlite3.Cursor at 0x7fb106c90810>,\n",
       " <sqlite3.Cursor at 0x7fb106c90810>,\n",
       " <sqlite3.Cursor at 0x7fb106c90810>,\n",
       " <sqlite3.Cursor at 0x7fb106c90810>,\n",
       " <sqlite3.Cursor at 0x7fb106c90810>,\n",
       " <sqlite3.Cursor at 0x7fb106c90810>,\n",
       " <sqlite3.Cursor at 0x7fb106c90810>,\n",
       " <sqlite3.Cursor at 0x7fb106c90810>,\n",
       " <sqlite3.Cursor at 0x7fb106c90810>,\n",
       " <sqlite3.Cursor at 0x7fb106c90810>,\n",
       " <sqlite3.Cursor at 0x7fb106c90810>,\n",
       " <sqlite3.Cursor at 0x7fb106c90810>,\n",
       " <sqlite3.Cursor at 0x7fb106c90810>,\n",
       " <sqlite3.Cursor at 0x7fb106c90810>,\n",
       " <sqlite3.Cursor at 0x7fb106c90810>,\n",
       " <sqlite3.Cursor at 0x7fb106c90810>,\n",
       " <sqlite3.Cursor at 0x7fb106c90810>,\n",
       " <sqlite3.Cursor at 0x7fb106c90810>,\n",
       " <sqlite3.Cursor at 0x7fb106c90810>,\n",
       " <sqlite3.Cursor at 0x7fb106c90810>,\n",
       " <sqlite3.Cursor at 0x7fb106c90810>]"
      ]
     },
     "execution_count": 11,
     "metadata": {},
     "output_type": "execute_result"
    }
   ],
   "source": [
    "# example data\n",
    "\n",
    "setup_qs = [\"\"\"\n",
    "CREATE TABLE IF NOT EXISTS regions( id INTEGER PRIMARY KEY, name VARCHAR(50) NOT NULL );\n",
    "\"\"\",\"\"\"\n",
    "CREATE TABLE IF NOT EXISTS states( id INTEGER PRIMARY KEY, name VARCHAR(50) NOT NULL, regionId INTEGER NOT NULL REFERENCES regions(id) );\n",
    "\"\"\",\"\"\"\n",
    "CREATE TABLE IF NOT EXISTS employees ( id INTEGER PRIMARY KEY, name VARCHAR(50) NOT NULL, stateId INTEGER NOT NULL REFERENCES states(id) );\n",
    "\"\"\",\"\"\"\n",
    "CREATE TABLE IF NOT EXISTS sales ( id INTEGER PRIMARY KEY, amount INTEGER NOT NULL, employeeId INTEGER NOT NULL REFERENCES employees(id) );\n",
    "\"\"\",\"\"\"\n",
    "INSERT INTO regions(id, name) VALUES(1, 'North'); \"\"\",\"\"\"\n",
    "INSERT INTO regions(id, name) VALUES(2, 'South'); \"\"\",\"\"\"\n",
    "INSERT INTO regions(id, name) VALUES(3, 'East'); \"\"\",\"\"\"\n",
    "INSERT INTO regions(id, name) VALUES(4, 'West'); \"\"\",\"\"\"\n",
    "INSERT INTO regions(id, name) VALUES(5, 'Midwest');\n",
    "\"\"\",\"\"\"\n",
    "INSERT INTO states(id, name, regionId) VALUES(1, 'Minnesota', 1); \"\"\",\"\"\"\n",
    "INSERT INTO states(id, name, regionId) VALUES(2, 'Texas', 2); \"\"\",\"\"\"\n",
    "INSERT INTO states(id, name, regionId) VALUES(3, 'California', 3); \"\"\",\"\"\"\n",
    "INSERT INTO states(id, name, regionId) VALUES(4, 'Columbia', 4); \"\"\",\"\"\"\n",
    "INSERT INTO states(id, name, regionId) VALUES(5, 'Indiana', 5);\n",
    "\"\"\",\"\"\"\n",
    "INSERT INTO employees(id, name, stateId) VALUES(1, 'Jaden', 1); \"\"\",\"\"\"\n",
    "INSERT INTO employees(id, name, stateId) VALUES(2, 'Abby', 1); \"\"\",\"\"\"\n",
    "INSERT INTO employees(id, name, stateId) VALUES(3, 'Amaya', 2); \"\"\",\"\"\"\n",
    "INSERT INTO employees(id, name, stateId) VALUES(4, 'Robert', 3); \"\"\",\"\"\"\n",
    "INSERT INTO employees(id, name, stateId) VALUES(5, 'Tom', 4); \"\"\",\"\"\"\n",
    "INSERT INTO employees(id, name, stateId) VALUES(6, 'William', 5);\n",
    "\"\"\",\"\"\"\n",
    "INSERT INTO sales(id, amount, employeeId) VALUES(1, 2000, 1); \"\"\",\"\"\"\n",
    "INSERT INTO sales(id, amount, employeeId) VALUES(2, 3000, 2); \"\"\",\"\"\"\n",
    "INSERT INTO sales(id, amount, employeeId) VALUES(3, 4000, 3); \"\"\",\"\"\"\n",
    "INSERT INTO sales(id, amount, employeeId) VALUES(4, 1200, 4); \"\"\",\"\"\"\n",
    "INSERT INTO sales(id, amount, employeeId) VALUES(5, 2400, 5);\n",
    "\"\"\"]\n",
    "\n",
    "[cur.execute(q) for q in setup_qs]"
   ]
  },
  {
   "cell_type": "code",
   "execution_count": 22,
   "metadata": {
    "ExecuteTime": {
     "end_time": "2021-08-26T21:35:54.825558Z",
     "start_time": "2021-08-26T21:35:54.577075Z"
    }
   },
   "outputs": [
    {
     "data": {
      "text/html": [
       "<div>\n",
       "<style scoped>\n",
       "    .dataframe tbody tr th:only-of-type {\n",
       "        vertical-align: middle;\n",
       "    }\n",
       "\n",
       "    .dataframe tbody tr th {\n",
       "        vertical-align: top;\n",
       "    }\n",
       "\n",
       "    .dataframe thead th {\n",
       "        text-align: right;\n",
       "    }\n",
       "</style>\n",
       "<table border=\"1\" class=\"dataframe\">\n",
       "  <thead>\n",
       "    <tr style=\"text-align: right;\">\n",
       "      <th></th>\n",
       "      <th>region</th>\n",
       "      <th>regional_avg</th>\n",
       "      <th>diff_from_max</th>\n",
       "    </tr>\n",
       "  </thead>\n",
       "  <tbody>\n",
       "    <tr>\n",
       "      <th>0</th>\n",
       "      <td>North</td>\n",
       "      <td>2500</td>\n",
       "      <td>1500</td>\n",
       "    </tr>\n",
       "    <tr>\n",
       "      <th>1</th>\n",
       "      <td>South</td>\n",
       "      <td>4000</td>\n",
       "      <td>0</td>\n",
       "    </tr>\n",
       "    <tr>\n",
       "      <th>2</th>\n",
       "      <td>East</td>\n",
       "      <td>1200</td>\n",
       "      <td>2800</td>\n",
       "    </tr>\n",
       "    <tr>\n",
       "      <th>3</th>\n",
       "      <td>West</td>\n",
       "      <td>2400</td>\n",
       "      <td>1600</td>\n",
       "    </tr>\n",
       "    <tr>\n",
       "      <th>4</th>\n",
       "      <td>Midwest</td>\n",
       "      <td>0</td>\n",
       "      <td>4000</td>\n",
       "    </tr>\n",
       "  </tbody>\n",
       "</table>\n",
       "</div>"
      ],
      "text/plain": [
       "    region  regional_avg  diff_from_max\n",
       "0    North          2500           1500\n",
       "1    South          4000              0\n",
       "2     East          1200           2800\n",
       "3     West          2400           1600\n",
       "4  Midwest             0           4000"
      ]
     },
     "execution_count": 22,
     "metadata": {},
     "output_type": "execute_result"
    }
   ],
   "source": [
    "# my answer\n",
    "\n",
    "cur.execute(\"\"\"\n",
    "WITH \n",
    "    region_sales (region, avg_sales_per_employee)\n",
    "    AS\n",
    "    (\n",
    "        SELECT r.name\n",
    "            , COALESCE(SUM(sa.amount) / COUNT(DISTINCT e.id), 0)\n",
    "        FROM regions r\n",
    "        LEFT JOIN states st ON st.regionId = r.id\n",
    "        LEFT JOIN employees e ON e.stateId = st.id\n",
    "        LEFT JOIN sales sa ON sa.employeeId = e.id\n",
    "        GROUP BY r.id\n",
    "    )\n",
    "SELECT region\n",
    "    , COALESCE(avg_sales_per_employee, 0) AS regional_avg\n",
    "    , COALESCE((SELECT MAX(avg_sales_per_employee) FROM region_sales) - avg_sales_per_employee, 0) as diff_from_max\n",
    "FROM region_sales\n",
    "\"\"\")\n",
    "\n",
    "df = pd.DataFrame(cur.fetchall())\n",
    "df.columns = [x[0] for x in cur.description]\n",
    "df"
   ]
  },
  {
   "cell_type": "markdown",
   "metadata": {},
   "source": [
    "## IQ - Search Ratings\n",
    "\n",
    "`search_results` table\n",
    "\n",
    "|column|type|\n",
    "|--|--|\n",
    "|query|varchar|\n",
    "|result_id|integer|\n",
    "|position|integer|\n",
    "|rating|integer|\n",
    " \n",
    "\n",
    "You're given a table that represents search results from searches on Facebook. The query column is the search term, position column represents each position the search result came in, and the rating column represents the human rating of the search result from 1 to 5 where 5 is high relevance and 1 is low relevance.\n",
    "\n",
    "1. Write a query to compute a metric to measure the quality of the search results for each query. \n",
    "\n",
    "2. You want to be able to compute a metric that measures the precision of the ranking system based on position. For example, if the results for dog and cat are....\n",
    "\n",
    "query|result_id|position|rating|notes\n",
    "--|--|--|--|--\n",
    "dog|1000|1|2|picture of hotdog\n",
    "dog|998|2|4|dog walking\n",
    "dog|342|3|1|zebra\n",
    "cat|123|1|4|picture of cat\n",
    "cat|435|2|2|cat memes\n",
    "cat|545|3|1|pizza shops\n",
    " \n",
    "\n",
    "...we would rank 'cat' as having a better search result ranking precision than 'dog' based on the correct sorting by rating.\n",
    "\n",
    "Write a query to create a metric that can validate and rank the queries by their search result precision. Round the metric (avg_rating column) to 2 decimal places.\n",
    "\n",
    "Output:\n",
    "\n",
    "column|type\n",
    "--|--\n",
    "query|varchar\n",
    "avg_rating|float"
   ]
  },
  {
   "cell_type": "code",
   "execution_count": 23,
   "metadata": {
    "ExecuteTime": {
     "end_time": "2021-09-01T15:35:15.454688Z",
     "start_time": "2021-09-01T15:35:11.889593Z"
    }
   },
   "outputs": [],
   "source": [
    "conn = sqlite3.connect('dbs/search_ratings.db')\n",
    "cur = conn.cursor()"
   ]
  },
  {
   "cell_type": "code",
   "execution_count": 24,
   "metadata": {
    "ExecuteTime": {
     "end_time": "2021-09-01T15:39:39.709983Z",
     "start_time": "2021-09-01T15:39:39.554990Z"
    }
   },
   "outputs": [
    {
     "data": {
      "text/plain": [
       "[<sqlite3.Cursor at 0x7fb106df6dc0>,\n",
       " <sqlite3.Cursor at 0x7fb106df6dc0>,\n",
       " <sqlite3.Cursor at 0x7fb106df6dc0>,\n",
       " <sqlite3.Cursor at 0x7fb106df6dc0>,\n",
       " <sqlite3.Cursor at 0x7fb106df6dc0>,\n",
       " <sqlite3.Cursor at 0x7fb106df6dc0>,\n",
       " <sqlite3.Cursor at 0x7fb106df6dc0>]"
      ]
     },
     "execution_count": 24,
     "metadata": {},
     "output_type": "execute_result"
    }
   ],
   "source": [
    "setup_qs = [\"\"\"\n",
    "CREATE TABLE IF NOT EXISTS search_results(\n",
    "result_id INTEGER NOT NULL, \n",
    "query VARCHAR(50) NOT NULL,\n",
    "position INTEGER NOT NULL,\n",
    "rating INTEGER);\n",
    "\"\"\",\"\"\"\n",
    "INSERT INTO search_results(query, result_id, position, rating) VALUES('dog', 1000, 1, 2); \"\"\",\"\"\"\n",
    "INSERT INTO search_results(query, result_id, position, rating) VALUES('dog', 998, 2, 4); \"\"\",\"\"\"\n",
    "INSERT INTO search_results(query, result_id, position, rating) VALUES('dog', 342, 3, 1); \"\"\",\"\"\"\n",
    "INSERT INTO search_results(query, result_id, position, rating) VALUES('cat', 123, 1, 4); \"\"\",\"\"\"\n",
    "INSERT INTO search_results(query, result_id, position, rating) VALUES('cat', 435, 2, 2); \"\"\",\"\"\"\n",
    "INSERT INTO search_results(query, result_id, position, rating) VALUES('cat', 545, 3, 1); \n",
    "\"\"\"]\n",
    "\n",
    "[cur.execute(q) for q in setup_qs]"
   ]
  },
  {
   "cell_type": "markdown",
   "metadata": {},
   "source": [
    "A set of 5 search results with the ideal positions would be:\n",
    "\n",
    "position|rating\n",
    "--|--\n",
    "1|5\n",
    "2|4\n",
    "3|3\n",
    "4|2\n",
    "5|1\n",
    "\n",
    "If we divided rating by position, the perfect score would be 5+2+1+0.5+0.2 = 8.7. Divided by count it would be 1.74\n",
    "\n",
    "The worst score would be 5. Divided by count it would be 1.\n",
    "\n",
    "position|rating\n",
    "--|--\n",
    "1|1\n",
    "2|2\n",
    "3|3\n",
    "4|4\n",
    "5|5\n",
    "\n",
    "The dog score in the example with 3 results would be 2+2+0.33 = 4.33. Divided by count it would be 1.44.\n",
    "\n",
    "The cat score would be 4+1+0.33 = 5.33. Divided by count it would be 1.77\n",
    "\n",
    "But the scores will be different for different numbers of search results. What if we divided by the count?\n",
    "\n",
    "I like the divide by count better, since it normalizes the scores for different numbers of results."
   ]
  },
  {
   "cell_type": "code",
   "execution_count": 39,
   "metadata": {
    "ExecuteTime": {
     "end_time": "2021-09-01T16:15:55.893258Z",
     "start_time": "2021-09-01T16:15:55.822923Z"
    }
   },
   "outputs": [
    {
     "data": {
      "text/html": [
       "<div>\n",
       "<style scoped>\n",
       "    .dataframe tbody tr th:only-of-type {\n",
       "        vertical-align: middle;\n",
       "    }\n",
       "\n",
       "    .dataframe tbody tr th {\n",
       "        vertical-align: top;\n",
       "    }\n",
       "\n",
       "    .dataframe thead th {\n",
       "        text-align: right;\n",
       "    }\n",
       "</style>\n",
       "<table border=\"1\" class=\"dataframe\">\n",
       "  <thead>\n",
       "    <tr style=\"text-align: right;\">\n",
       "      <th></th>\n",
       "      <th>query</th>\n",
       "      <th>avg_rating</th>\n",
       "    </tr>\n",
       "  </thead>\n",
       "  <tbody>\n",
       "    <tr>\n",
       "      <th>0</th>\n",
       "      <td>cat</td>\n",
       "      <td>1.78</td>\n",
       "    </tr>\n",
       "    <tr>\n",
       "      <th>1</th>\n",
       "      <td>dog</td>\n",
       "      <td>1.44</td>\n",
       "    </tr>\n",
       "  </tbody>\n",
       "</table>\n",
       "</div>"
      ],
      "text/plain": [
       "  query  avg_rating\n",
       "0   cat        1.78\n",
       "1   dog        1.44"
      ]
     },
     "execution_count": 39,
     "metadata": {},
     "output_type": "execute_result"
    }
   ],
   "source": [
    "cur.execute(\"\"\"\n",
    "SELECT query\n",
    "    , ROUND(SUM(CAST(rating AS FLOAT) / position) / COUNT(rating), 2) AS avg_rating\n",
    "FROM search_results\n",
    "GROUP BY query\n",
    "ORDER BY avg_rating DESC\n",
    "\"\"\")\n",
    "\n",
    "df = pd.DataFrame(cur.fetchall())\n",
    "df.columns = [x[0] for x in cur.description]\n",
    "df"
   ]
  },
  {
   "cell_type": "markdown",
   "metadata": {},
   "source": [
    "## IQ - Paired Products\n",
    "\n",
    "`transactions` table\n",
    "\n",
    "column|type\n",
    "--|--\n",
    "id|integer\n",
    "user_id|integer\n",
    "created_at|datetime\n",
    "product_id|integer\n",
    "quantity|integer\n",
    "\n",
    "`products` table\n",
    "\n",
    "column|type\n",
    "--|--\n",
    "id|integer\n",
    "name|string\n",
    "price|float\n",
    " \n",
    "\n",
    "Let's say we have two tables, `transactions` and `products`. Hypothetically the `transactions` table consists of over a billion rows of purchases bought by users.\n",
    "\n",
    "We are trying to find paired products that are often purchased together by the same user, such as wine and bottle openers, chips and beer, etc..\n",
    "\n",
    "Write a query to find the top five paired products and their names.\n",
    "\n",
    "Note: for the purposes of satisfying the test case, P1 should be the item that comes first in the alphabet.\n",
    "\n",
    "Output:\n",
    "\n",
    "column|type\n",
    "--|--\n",
    "P1|string\n",
    "P2|string\n",
    "count|integer"
   ]
  },
  {
   "cell_type": "code",
   "execution_count": null,
   "metadata": {},
   "outputs": [],
   "source": [
    "conn = sqlite3.connect('dbs/paired_products.db')\n",
    "cur = conn.cursor()\n",
    "\n",
    "setup_qs = [\"\"\"\n",
    "CREATE TABLE IF NOT EXISTS transactions(\n",
    "id\n",
    "result_id INTEGER NOT NULL, \n",
    "query VARCHAR(50) NOT NULL,\n",
    "position INTEGER NOT NULL,\n",
    "rating INTEGER);\n",
    "\"\"\",\"\"\"\n",
    "INSERT INTO search_results(query, result_id, position, rating) VALUES('dog', 1000, 1, 2); \"\"\",\"\"\"\n",
    "INSERT INTO search_results(querby, result_id, position, rating) VALUES('dog', 998, 2, 4); \"\"\",\"\"\"\n",
    "INSERT INTO search_results(query, result_id, position, rating) VALUES('dog', 342, 3, 1); \"\"\",\"\"\"\n",
    "INSERT INTO search_results(query, result_id, position, rating) VALUES('cat', 123, 1, 4); \"\"\",\"\"\"\n",
    "INSERT INTO search_results(query, result_id, position, rating) VALUES('cat', 435, 2, 2); \"\"\",\"\"\"\n",
    "INSERT INTO search_results(query, result_id, position, rating) VALUES('cat', 545, 3, 1); \n",
    "\"\"\"]\n",
    "\n",
    "[cur.execute(q) for q in setup_qs]"
   ]
  },
  {
   "cell_type": "markdown",
   "metadata": {},
   "source": [
    "# Practicing with Group By\n",
    "\n",
    "Example data from https://www.mssqltips.com/sqlservertip/6315/group-by-in-sql-server-with-cube-rollup-and-grouping-sets-examples/"
   ]
  },
  {
   "cell_type": "code",
   "execution_count": 3,
   "metadata": {
    "ExecuteTime": {
     "end_time": "2021-10-01T18:49:30.056659Z",
     "start_time": "2021-10-01T18:49:30.008879Z"
    }
   },
   "outputs": [],
   "source": [
    "conn = sqlite3.connect('dbs/salaries.db')\n",
    "cur = conn.cursor()"
   ]
  },
  {
   "cell_type": "code",
   "execution_count": 17,
   "metadata": {
    "ExecuteTime": {
     "end_time": "2021-10-01T18:59:18.884106Z",
     "start_time": "2021-10-01T18:59:18.825281Z"
    }
   },
   "outputs": [
    {
     "data": {
      "text/plain": [
       "<sqlite3.Cursor at 0x7ff7533d19d0>"
      ]
     },
     "execution_count": 17,
     "metadata": {},
     "output_type": "execute_result"
    }
   ],
   "source": [
    "cur.execute(\"\"\"DELETE FROM EmpSalary\"\"\")"
   ]
  },
  {
   "cell_type": "code",
   "execution_count": 18,
   "metadata": {
    "ExecuteTime": {
     "end_time": "2021-10-01T18:59:19.686995Z",
     "start_time": "2021-10-01T18:59:19.632675Z"
    }
   },
   "outputs": [
    {
     "data": {
      "text/plain": [
       "[<sqlite3.Cursor at 0x7ff7533d19d0>,\n",
       " <sqlite3.Cursor at 0x7ff7533d19d0>,\n",
       " <sqlite3.Cursor at 0x7ff7533d19d0>,\n",
       " <sqlite3.Cursor at 0x7ff7533d19d0>,\n",
       " <sqlite3.Cursor at 0x7ff7533d19d0>,\n",
       " <sqlite3.Cursor at 0x7ff7533d19d0>,\n",
       " <sqlite3.Cursor at 0x7ff7533d19d0>,\n",
       " <sqlite3.Cursor at 0x7ff7533d19d0>,\n",
       " <sqlite3.Cursor at 0x7ff7533d19d0>,\n",
       " <sqlite3.Cursor at 0x7ff7533d19d0>,\n",
       " <sqlite3.Cursor at 0x7ff7533d19d0>,\n",
       " <sqlite3.Cursor at 0x7ff7533d19d0>]"
      ]
     },
     "execution_count": 18,
     "metadata": {},
     "output_type": "execute_result"
    }
   ],
   "source": [
    "setup_qs = [\"\"\"\n",
    "CREATE TABLE IF NOT EXISTS EmpSalary(\n",
    "  id INTEGER PRIMARY KEY, \n",
    "  EmpName varchar (200), \n",
    "  Department varchar(100), \n",
    "  Category char(1), \n",
    "  Salary INTEGER );\n",
    "\"\"\",\"\"\"\n",
    "INSERT INTO EmpSalary(EmpName, Department, Category, Salary) VALUES('Bhavesh Patel','IT','A',8000); \"\"\",\"\"\"\n",
    "INSERT INTO EmpSalary(EmpName, Department, Category, Salary) VALUES('Alpesh Patel','Sales','A',7000); \"\"\",\"\"\"\n",
    "INSERT INTO EmpSalary(EmpName, Department, Category, Salary) VALUES('Kalpesh Thakor','IT','B',5000 ); \"\"\",\"\"\"\n",
    "INSERT INTO EmpSalary(EmpName, Department, Category, Salary) VALUES('Jay Shah','Sales','B',4000 ); \"\"\",\"\"\"\n",
    "INSERT INTO EmpSalary(EmpName, Department, Category, Salary) VALUES('Ram Nayak','IT','C',3000); \"\"\",\"\"\"\n",
    "INSERT INTO EmpSalary(EmpName, Department, Category, Salary) VALUES('Jay Shaw','Sales','C',2000); \"\"\",\"\"\"\n",
    "INSERT INTO EmpSalary(EmpName, Department, Category, Salary) VALUES('John Snow','IT','B',6000); \"\"\",\"\"\"\n",
    "INSERT INTO EmpSalary(EmpName, Department, Category, Salary) VALUES('Arya Stark','IT','A',5500); \"\"\",\"\"\"\n",
    "INSERT INTO EmpSalary(EmpName, Department, Category, Salary) VALUES('Homer Simpson','Sales','C',3000); \"\"\",\"\"\"\n",
    "INSERT INTO EmpSalary(EmpName, Department, Category, Salary) VALUES('Geoffrey Baratheon','Shipping','D',4500); \"\"\",\"\"\"\n",
    "INSERT INTO EmpSalary(EmpName, Department, Category, Salary) VALUES('Lisa Simpson','IT','C',2000); \"\"\"]\n",
    "\n",
    "[cur.execute(q) for q in setup_qs]\n"
   ]
  },
  {
   "cell_type": "code",
   "execution_count": 22,
   "metadata": {
    "ExecuteTime": {
     "end_time": "2021-10-01T19:01:55.411001Z",
     "start_time": "2021-10-01T19:01:55.326914Z"
    },
    "scrolled": true
   },
   "outputs": [
    {
     "data": {
      "text/html": [
       "<div>\n",
       "<style scoped>\n",
       "    .dataframe tbody tr th:only-of-type {\n",
       "        vertical-align: middle;\n",
       "    }\n",
       "\n",
       "    .dataframe tbody tr th {\n",
       "        vertical-align: top;\n",
       "    }\n",
       "\n",
       "    .dataframe thead th {\n",
       "        text-align: right;\n",
       "    }\n",
       "</style>\n",
       "<table border=\"1\" class=\"dataframe\">\n",
       "  <thead>\n",
       "    <tr style=\"text-align: right;\">\n",
       "      <th></th>\n",
       "      <th>Department</th>\n",
       "      <th>Category</th>\n",
       "      <th>Employee_Count</th>\n",
       "    </tr>\n",
       "  </thead>\n",
       "  <tbody>\n",
       "    <tr>\n",
       "      <th>0</th>\n",
       "      <td>IT</td>\n",
       "      <td>A</td>\n",
       "      <td>2</td>\n",
       "    </tr>\n",
       "    <tr>\n",
       "      <th>1</th>\n",
       "      <td>IT</td>\n",
       "      <td>B</td>\n",
       "      <td>2</td>\n",
       "    </tr>\n",
       "    <tr>\n",
       "      <th>2</th>\n",
       "      <td>IT</td>\n",
       "      <td>C</td>\n",
       "      <td>2</td>\n",
       "    </tr>\n",
       "    <tr>\n",
       "      <th>3</th>\n",
       "      <td>Sales</td>\n",
       "      <td>A</td>\n",
       "      <td>1</td>\n",
       "    </tr>\n",
       "    <tr>\n",
       "      <th>4</th>\n",
       "      <td>Sales</td>\n",
       "      <td>B</td>\n",
       "      <td>1</td>\n",
       "    </tr>\n",
       "    <tr>\n",
       "      <th>5</th>\n",
       "      <td>Sales</td>\n",
       "      <td>C</td>\n",
       "      <td>2</td>\n",
       "    </tr>\n",
       "    <tr>\n",
       "      <th>6</th>\n",
       "      <td>Shipping</td>\n",
       "      <td>D</td>\n",
       "      <td>1</td>\n",
       "    </tr>\n",
       "  </tbody>\n",
       "</table>\n",
       "</div>"
      ],
      "text/plain": [
       "  Department Category  Employee_Count\n",
       "0         IT        A               2\n",
       "1         IT        B               2\n",
       "2         IT        C               2\n",
       "3      Sales        A               1\n",
       "4      Sales        B               1\n",
       "5      Sales        C               2\n",
       "6   Shipping        D               1"
      ]
     },
     "execution_count": 22,
     "metadata": {},
     "output_type": "execute_result"
    }
   ],
   "source": [
    "cur.execute(\"\"\"\n",
    "SELECT Department, Category, count() AS Employee_Count\n",
    "FROM EmpSalary\n",
    "GROUP BY Department, Category\n",
    "\"\"\")\n",
    "\n",
    "df = pd.DataFrame(cur.fetchall())\n",
    "df.columns = [x[0] for x in cur.description]\n",
    "df"
   ]
  },
  {
   "cell_type": "markdown",
   "metadata": {},
   "source": [
    "What if I wanted the count of employees whose salaries were above the average for the department, grouped by department?"
   ]
  },
  {
   "cell_type": "code",
   "execution_count": 31,
   "metadata": {
    "ExecuteTime": {
     "end_time": "2021-10-01T19:10:21.800698Z",
     "start_time": "2021-10-01T19:10:21.713521Z"
    }
   },
   "outputs": [
    {
     "data": {
      "text/html": [
       "<div>\n",
       "<style scoped>\n",
       "    .dataframe tbody tr th:only-of-type {\n",
       "        vertical-align: middle;\n",
       "    }\n",
       "\n",
       "    .dataframe tbody tr th {\n",
       "        vertical-align: top;\n",
       "    }\n",
       "\n",
       "    .dataframe thead th {\n",
       "        text-align: right;\n",
       "    }\n",
       "</style>\n",
       "<table border=\"1\" class=\"dataframe\">\n",
       "  <thead>\n",
       "    <tr style=\"text-align: right;\">\n",
       "      <th></th>\n",
       "      <th>Department</th>\n",
       "      <th>Category</th>\n",
       "      <th>Employee_Count</th>\n",
       "      <th>Avg_Salary_Per_Dept</th>\n",
       "    </tr>\n",
       "  </thead>\n",
       "  <tbody>\n",
       "    <tr>\n",
       "      <th>0</th>\n",
       "      <td>IT</td>\n",
       "      <td>A</td>\n",
       "      <td>4</td>\n",
       "      <td>4916.67</td>\n",
       "    </tr>\n",
       "    <tr>\n",
       "      <th>1</th>\n",
       "      <td>Sales</td>\n",
       "      <td>A</td>\n",
       "      <td>1</td>\n",
       "      <td>4000.00</td>\n",
       "    </tr>\n",
       "  </tbody>\n",
       "</table>\n",
       "</div>"
      ],
      "text/plain": [
       "  Department Category  Employee_Count  Avg_Salary_Per_Dept\n",
       "0         IT        A               4              4916.67\n",
       "1      Sales        A               1              4000.00"
      ]
     },
     "execution_count": 31,
     "metadata": {},
     "output_type": "execute_result"
    }
   ],
   "source": [
    "cur.execute(\"\"\"\n",
    "SELECT e.Department, e.Category, count() AS Employee_Count,\n",
    "    ROUND(a.Avg_Salary, 2) Avg_Salary_Per_Dept\n",
    "FROM EmpSalary e,\n",
    "    (SELECT avg(Salary) Avg_Salary, Department \n",
    "     FROM EmpSalary \n",
    "     GROUP BY Department) a\n",
    "WHERE e.Department = a.Department \n",
    "AND e.Salary > a.Avg_Salary \n",
    "GROUP BY e.Department\n",
    "\"\"\")\n",
    "\n",
    "df = pd.DataFrame(cur.fetchall())\n",
    "df.columns = [x[0] for x in cur.description]\n",
    "df"
   ]
  },
  {
   "cell_type": "code",
   "execution_count": null,
   "metadata": {},
   "outputs": [],
   "source": []
  }
 ],
 "metadata": {
  "kernelspec": {
   "display_name": "learn-env2a",
   "language": "python",
   "name": "learn-env2a"
  },
  "language_info": {
   "codemirror_mode": {
    "name": "ipython",
    "version": 3
   },
   "file_extension": ".py",
   "mimetype": "text/x-python",
   "name": "python",
   "nbconvert_exporter": "python",
   "pygments_lexer": "ipython3",
   "version": "3.8.5"
  },
  "toc": {
   "base_numbering": 1,
   "nav_menu": {},
   "number_sections": true,
   "sideBar": true,
   "skip_h1_title": false,
   "title_cell": "Table of Contents",
   "title_sidebar": "Contents",
   "toc_cell": false,
   "toc_position": {},
   "toc_section_display": true,
   "toc_window_display": true
  }
 },
 "nbformat": 4,
 "nbformat_minor": 4
}

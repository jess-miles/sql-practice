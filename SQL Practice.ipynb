{
 "cells": [
  {
   "cell_type": "markdown",
   "metadata": {},
   "source": [
    "# Introduction\n",
    "\n",
    "This notebook contains my test answers to SQL problems from TestDome."
   ]
  },
  {
   "cell_type": "code",
   "execution_count": 15,
   "metadata": {
    "ExecuteTime": {
     "end_time": "2021-08-26T21:21:06.000789Z",
     "start_time": "2021-08-26T21:21:05.908008Z"
    }
   },
   "outputs": [],
   "source": [
    "import sqlite3\n",
    "import pandas as pd"
   ]
  },
  {
   "cell_type": "markdown",
   "metadata": {},
   "source": [
    "## Regional Sales Comparison\n",
    "\n",
    "An insurance company maintains records of sales made by its employees. Each employee is assigned to a state. States are grouped under regions.\n",
    "\n",
    "Write a query that returns:\n",
    "\n",
    "1. The region name.\n",
    "2. Average sales per employee for the region (Average sales = Total sales made for the region / Number of employees in the region).\n",
    "3. The difference between the average sales of the region with the highest average sales, and the average sales per employee for the region (average sales to be calculated as explained above).\n",
    "\n",
    "Employees can have multiple sales. A region with no sales should be also returned. Use 0 for average sales per employee for such a region when calculating the 2nd and the 3rd column."
   ]
  },
  {
   "cell_type": "code",
   "execution_count": 3,
   "metadata": {
    "ExecuteTime": {
     "end_time": "2021-08-26T21:10:15.740203Z",
     "start_time": "2021-08-26T21:10:15.549070Z"
    }
   },
   "outputs": [],
   "source": [
    "conn = sqlite3.connect('dbs/regional_sales.db')\n",
    "cur = conn.cursor()"
   ]
  },
  {
   "cell_type": "code",
   "execution_count": 11,
   "metadata": {
    "ExecuteTime": {
     "end_time": "2021-08-26T21:18:47.335378Z",
     "start_time": "2021-08-26T21:18:47.134780Z"
    }
   },
   "outputs": [
    {
     "data": {
      "text/plain": [
       "[<sqlite3.Cursor at 0x7fb106c90810>,\n",
       " <sqlite3.Cursor at 0x7fb106c90810>,\n",
       " <sqlite3.Cursor at 0x7fb106c90810>,\n",
       " <sqlite3.Cursor at 0x7fb106c90810>,\n",
       " <sqlite3.Cursor at 0x7fb106c90810>,\n",
       " <sqlite3.Cursor at 0x7fb106c90810>,\n",
       " <sqlite3.Cursor at 0x7fb106c90810>,\n",
       " <sqlite3.Cursor at 0x7fb106c90810>,\n",
       " <sqlite3.Cursor at 0x7fb106c90810>,\n",
       " <sqlite3.Cursor at 0x7fb106c90810>,\n",
       " <sqlite3.Cursor at 0x7fb106c90810>,\n",
       " <sqlite3.Cursor at 0x7fb106c90810>,\n",
       " <sqlite3.Cursor at 0x7fb106c90810>,\n",
       " <sqlite3.Cursor at 0x7fb106c90810>,\n",
       " <sqlite3.Cursor at 0x7fb106c90810>,\n",
       " <sqlite3.Cursor at 0x7fb106c90810>,\n",
       " <sqlite3.Cursor at 0x7fb106c90810>,\n",
       " <sqlite3.Cursor at 0x7fb106c90810>,\n",
       " <sqlite3.Cursor at 0x7fb106c90810>,\n",
       " <sqlite3.Cursor at 0x7fb106c90810>,\n",
       " <sqlite3.Cursor at 0x7fb106c90810>,\n",
       " <sqlite3.Cursor at 0x7fb106c90810>,\n",
       " <sqlite3.Cursor at 0x7fb106c90810>,\n",
       " <sqlite3.Cursor at 0x7fb106c90810>,\n",
       " <sqlite3.Cursor at 0x7fb106c90810>]"
      ]
     },
     "execution_count": 11,
     "metadata": {},
     "output_type": "execute_result"
    }
   ],
   "source": [
    "# example data\n",
    "\n",
    "setup_qs = [\"\"\"\n",
    "CREATE TABLE IF NOT EXISTS regions( id INTEGER PRIMARY KEY, name VARCHAR(50) NOT NULL );\n",
    "\"\"\",\"\"\"\n",
    "CREATE TABLE IF NOT EXISTS states( id INTEGER PRIMARY KEY, name VARCHAR(50) NOT NULL, regionId INTEGER NOT NULL REFERENCES regions(id) );\n",
    "\"\"\",\"\"\"\n",
    "CREATE TABLE IF NOT EXISTS employees ( id INTEGER PRIMARY KEY, name VARCHAR(50) NOT NULL, stateId INTEGER NOT NULL REFERENCES states(id) );\n",
    "\"\"\",\"\"\"\n",
    "CREATE TABLE IF NOT EXISTS sales ( id INTEGER PRIMARY KEY, amount INTEGER NOT NULL, employeeId INTEGER NOT NULL REFERENCES employees(id) );\n",
    "\"\"\",\"\"\"\n",
    "INSERT INTO regions(id, name) VALUES(1, 'North'); \"\"\",\"\"\"\n",
    "INSERT INTO regions(id, name) VALUES(2, 'South'); \"\"\",\"\"\"\n",
    "INSERT INTO regions(id, name) VALUES(3, 'East'); \"\"\",\"\"\"\n",
    "INSERT INTO regions(id, name) VALUES(4, 'West'); \"\"\",\"\"\"\n",
    "INSERT INTO regions(id, name) VALUES(5, 'Midwest');\n",
    "\"\"\",\"\"\"\n",
    "INSERT INTO states(id, name, regionId) VALUES(1, 'Minnesota', 1); \"\"\",\"\"\"\n",
    "INSERT INTO states(id, name, regionId) VALUES(2, 'Texas', 2); \"\"\",\"\"\"\n",
    "INSERT INTO states(id, name, regionId) VALUES(3, 'California', 3); \"\"\",\"\"\"\n",
    "INSERT INTO states(id, name, regionId) VALUES(4, 'Columbia', 4); \"\"\",\"\"\"\n",
    "INSERT INTO states(id, name, regionId) VALUES(5, 'Indiana', 5);\n",
    "\"\"\",\"\"\"\n",
    "INSERT INTO employees(id, name, stateId) VALUES(1, 'Jaden', 1); \"\"\",\"\"\"\n",
    "INSERT INTO employees(id, name, stateId) VALUES(2, 'Abby', 1); \"\"\",\"\"\"\n",
    "INSERT INTO employees(id, name, stateId) VALUES(3, 'Amaya', 2); \"\"\",\"\"\"\n",
    "INSERT INTO employees(id, name, stateId) VALUES(4, 'Robert', 3); \"\"\",\"\"\"\n",
    "INSERT INTO employees(id, name, stateId) VALUES(5, 'Tom', 4); \"\"\",\"\"\"\n",
    "INSERT INTO employees(id, name, stateId) VALUES(6, 'William', 5);\n",
    "\"\"\",\"\"\"\n",
    "INSERT INTO sales(id, amount, employeeId) VALUES(1, 2000, 1); \"\"\",\"\"\"\n",
    "INSERT INTO sales(id, amount, employeeId) VALUES(2, 3000, 2); \"\"\",\"\"\"\n",
    "INSERT INTO sales(id, amount, employeeId) VALUES(3, 4000, 3); \"\"\",\"\"\"\n",
    "INSERT INTO sales(id, amount, employeeId) VALUES(4, 1200, 4); \"\"\",\"\"\"\n",
    "INSERT INTO sales(id, amount, employeeId) VALUES(5, 2400, 5);\n",
    "\"\"\"]\n",
    "\n",
    "[cur.execute(q) for q in setup_qs]"
   ]
  },
  {
   "cell_type": "code",
   "execution_count": 22,
   "metadata": {
    "ExecuteTime": {
     "end_time": "2021-08-26T21:35:54.825558Z",
     "start_time": "2021-08-26T21:35:54.577075Z"
    }
   },
   "outputs": [
    {
     "data": {
      "text/html": [
       "<div>\n",
       "<style scoped>\n",
       "    .dataframe tbody tr th:only-of-type {\n",
       "        vertical-align: middle;\n",
       "    }\n",
       "\n",
       "    .dataframe tbody tr th {\n",
       "        vertical-align: top;\n",
       "    }\n",
       "\n",
       "    .dataframe thead th {\n",
       "        text-align: right;\n",
       "    }\n",
       "</style>\n",
       "<table border=\"1\" class=\"dataframe\">\n",
       "  <thead>\n",
       "    <tr style=\"text-align: right;\">\n",
       "      <th></th>\n",
       "      <th>region</th>\n",
       "      <th>regional_avg</th>\n",
       "      <th>diff_from_max</th>\n",
       "    </tr>\n",
       "  </thead>\n",
       "  <tbody>\n",
       "    <tr>\n",
       "      <th>0</th>\n",
       "      <td>North</td>\n",
       "      <td>2500</td>\n",
       "      <td>1500</td>\n",
       "    </tr>\n",
       "    <tr>\n",
       "      <th>1</th>\n",
       "      <td>South</td>\n",
       "      <td>4000</td>\n",
       "      <td>0</td>\n",
       "    </tr>\n",
       "    <tr>\n",
       "      <th>2</th>\n",
       "      <td>East</td>\n",
       "      <td>1200</td>\n",
       "      <td>2800</td>\n",
       "    </tr>\n",
       "    <tr>\n",
       "      <th>3</th>\n",
       "      <td>West</td>\n",
       "      <td>2400</td>\n",
       "      <td>1600</td>\n",
       "    </tr>\n",
       "    <tr>\n",
       "      <th>4</th>\n",
       "      <td>Midwest</td>\n",
       "      <td>0</td>\n",
       "      <td>4000</td>\n",
       "    </tr>\n",
       "  </tbody>\n",
       "</table>\n",
       "</div>"
      ],
      "text/plain": [
       "    region  regional_avg  diff_from_max\n",
       "0    North          2500           1500\n",
       "1    South          4000              0\n",
       "2     East          1200           2800\n",
       "3     West          2400           1600\n",
       "4  Midwest             0           4000"
      ]
     },
     "execution_count": 22,
     "metadata": {},
     "output_type": "execute_result"
    }
   ],
   "source": [
    "# my answer\n",
    "\n",
    "cur.execute(\"\"\"\n",
    "WITH \n",
    "    region_sales (region, avg_sales_per_employee)\n",
    "    AS\n",
    "    (\n",
    "        SELECT r.name\n",
    "            , COALESCE(SUM(sa.amount) / COUNT(DISTINCT e.id), 0)\n",
    "        FROM regions r\n",
    "        LEFT JOIN states st ON st.regionId = r.id\n",
    "        LEFT JOIN employees e ON e.stateId = st.id\n",
    "        LEFT JOIN sales sa ON sa.employeeId = e.id\n",
    "        GROUP BY r.id\n",
    "    )\n",
    "SELECT region\n",
    "    , COALESCE(avg_sales_per_employee, 0) AS regional_avg\n",
    "    , COALESCE((SELECT MAX(avg_sales_per_employee) FROM region_sales) - avg_sales_per_employee, 0) as diff_from_max\n",
    "FROM region_sales\n",
    "\"\"\")\n",
    "\n",
    "df = pd.DataFrame(cur.fetchall())\n",
    "df.columns = [x[0] for x in cur.description]\n",
    "df"
   ]
  },
  {
   "cell_type": "code",
   "execution_count": null,
   "metadata": {},
   "outputs": [],
   "source": []
  }
 ],
 "metadata": {
  "kernelspec": {
   "display_name": "learn-env2a",
   "language": "python",
   "name": "learn-env2a"
  },
  "language_info": {
   "codemirror_mode": {
    "name": "ipython",
    "version": 3
   },
   "file_extension": ".py",
   "mimetype": "text/x-python",
   "name": "python",
   "nbconvert_exporter": "python",
   "pygments_lexer": "ipython3",
   "version": "3.8.5"
  },
  "toc": {
   "base_numbering": 1,
   "nav_menu": {},
   "number_sections": true,
   "sideBar": true,
   "skip_h1_title": false,
   "title_cell": "Table of Contents",
   "title_sidebar": "Contents",
   "toc_cell": false,
   "toc_position": {},
   "toc_section_display": true,
   "toc_window_display": true
  }
 },
 "nbformat": 4,
 "nbformat_minor": 4
}
